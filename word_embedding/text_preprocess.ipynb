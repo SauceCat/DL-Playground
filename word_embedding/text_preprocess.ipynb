{
 "cells": [
  {
   "cell_type": "markdown",
   "metadata": {},
   "source": [
    "# Explore text preprocessing with IMDB dataset\n",
    "IMDB dataset: http://ai.stanford.edu/~amaas/data/sentiment/"
   ]
  },
  {
   "cell_type": "markdown",
   "metadata": {},
   "source": [
    "### Reading the Data"
   ]
  },
  {
   "cell_type": "code",
   "execution_count": 1,
   "metadata": {},
   "outputs": [],
   "source": [
    "txt_path = 'data/aclImdb/train/neg/10_2.txt'\n",
    "txt = open(txt_path).read()"
   ]
  },
  {
   "cell_type": "code",
   "execution_count": 2,
   "metadata": {},
   "outputs": [
    {
     "data": {
      "text/plain": [
       "\"This film had a lot of promise, and the plot was relatively interesting, however the actors, director and editors seriously let this film down.<br /><br />I feel bad for the writers, it could have been good. The acting is wooden, very few of the characters are believable.<br /><br />Who ever edited this clearly just learnt some new edit techniques and wanted to splash them all over the film. There are lots of quick 'flashy' edits in almost every scene, which are clearly meant to be symbolic but just end up as annoying.<br /><br />I wanted to like this film and expected there to be a decent resolution to the breakdown of equilibrium but alas no, it left me feeling like I'd wasted my time and the film makers had wasted their money.\""
      ]
     },
     "execution_count": 2,
     "metadata": {},
     "output_type": "execute_result"
    }
   ],
   "source": [
    "txt"
   ]
  },
  {
   "cell_type": "markdown",
   "metadata": {},
   "source": [
    "### 1. Removing HTML Markup:\n",
    "The BeautifulSoup Package  \n",
    "Calling get_text() gives you the text of the review, without tags or markup."
   ]
  },
  {
   "cell_type": "code",
   "execution_count": 4,
   "metadata": {},
   "outputs": [],
   "source": [
    "from bs4 import BeautifulSoup"
   ]
  },
  {
   "cell_type": "code",
   "execution_count": 6,
   "metadata": {},
   "outputs": [
    {
     "name": "stdout",
     "output_type": "stream",
     "text": [
      "This film had a lot of promise, and the plot was relatively interesting, however the actors, director and editors seriously let this film down.I feel bad for the writers, it could have been good. The acting is wooden, very few of the characters are believable.Who ever edited this clearly just learnt some new edit techniques and wanted to splash them all over the film. There are lots of quick 'flashy' edits in almost every scene, which are clearly meant to be symbolic but just end up as annoying.I wanted to like this film and expected there to be a decent resolution to the breakdown of equilibrium but alas no, it left me feeling like I'd wasted my time and the film makers had wasted their money.\n"
     ]
    }
   ],
   "source": [
    "example1 = BeautifulSoup(txt, 'lxml')\n",
    "\n",
    "#print train[\"review\"][0]\n",
    "print example1.get_text()"
   ]
  },
  {
   "cell_type": "markdown",
   "metadata": {},
   "source": [
    "### 2. Turn paragraph into sentences\n",
    "Optinal. For word2vec model, this method might be helpful. But for doc2vec, we treat the whole document as a complete unit."
   ]
  },
  {
   "cell_type": "code",
   "execution_count": 16,
   "metadata": {},
   "outputs": [],
   "source": [
    "import nltk.data\n",
    "tokenizer = nltk.data.load('tokenizers/punkt/english.pickle')"
   ]
  },
  {
   "cell_type": "code",
   "execution_count": 18,
   "metadata": {},
   "outputs": [],
   "source": [
    "sentences = tokenizer.tokenize(example1.get_text().strip().decode('utf-8'))"
   ]
  },
  {
   "cell_type": "code",
   "execution_count": 19,
   "metadata": {},
   "outputs": [
    {
     "data": {
      "text/plain": [
       "[u'This film had a lot of promise, and the plot was relatively interesting, however the actors, director and editors seriously let this film down.I feel bad for the writers, it could have been good.',\n",
       " u'The acting is wooden, very few of the characters are believable.Who ever edited this clearly just learnt some new edit techniques and wanted to splash them all over the film.',\n",
       " u\"There are lots of quick 'flashy' edits in almost every scene, which are clearly meant to be symbolic but just end up as annoying.I wanted to like this film and expected there to be a decent resolution to the breakdown of equilibrium but alas no, it left me feeling like I'd wasted my time and the film makers had wasted their money.\"]"
      ]
     },
     "execution_count": 19,
     "metadata": {},
     "output_type": "execute_result"
    }
   ],
   "source": [
    "sentences"
   ]
  },
  {
   "cell_type": "markdown",
   "metadata": {},
   "source": [
    "### 3. Only keep english characters\n",
    "By remove all punctuation and numbers.  \n",
    "However, some model needs to define the context within one sentence, so punctuation should be removed after the split of sentences."
   ]
  },
  {
   "cell_type": "code",
   "execution_count": 7,
   "metadata": {},
   "outputs": [],
   "source": [
    "import re"
   ]
  },
  {
   "cell_type": "code",
   "execution_count": 8,
   "metadata": {},
   "outputs": [],
   "source": [
    "letters_only = re.sub(\"[^a-zA-Z]\", \" \", example1.get_text())"
   ]
  },
  {
   "cell_type": "code",
   "execution_count": 9,
   "metadata": {},
   "outputs": [
    {
     "data": {
      "text/plain": [
       "u'This film had a lot of promise  and the plot was relatively interesting  however the actors  director and editors seriously let this film down I feel bad for the writers  it could have been good  The acting is wooden  very few of the characters are believable Who ever edited this clearly just learnt some new edit techniques and wanted to splash them all over the film  There are lots of quick  flashy  edits in almost every scene  which are clearly meant to be symbolic but just end up as annoying I wanted to like this film and expected there to be a decent resolution to the breakdown of equilibrium but alas no  it left me feeling like I d wasted my time and the film makers had wasted their money '"
      ]
     },
     "execution_count": 9,
     "metadata": {},
     "output_type": "execute_result"
    }
   ],
   "source": [
    "letters_only"
   ]
  },
  {
   "cell_type": "markdown",
   "metadata": {},
   "source": [
    "### 4. Turn all words into their lowercase and split for use"
   ]
  },
  {
   "cell_type": "code",
   "execution_count": 13,
   "metadata": {},
   "outputs": [],
   "source": [
    "words = letters_only.lower().split()\n",
    "words = [w.strip() for w in words]"
   ]
  },
  {
   "cell_type": "markdown",
   "metadata": {},
   "source": [
    "### 5. Remove stopwords\n",
    "Optional. Removing stopwords might be helpful for bag-of-words model, but might hurt the word2vec and doc2vec model."
   ]
  },
  {
   "cell_type": "code",
   "execution_count": 10,
   "metadata": {},
   "outputs": [],
   "source": [
    "from nltk.corpus import stopwords"
   ]
  },
  {
   "cell_type": "code",
   "execution_count": 14,
   "metadata": {},
   "outputs": [
    {
     "name": "stdout",
     "output_type": "stream",
     "text": [
      "130\n",
      "62\n"
     ]
    }
   ],
   "source": [
    "print(len(words))\n",
    "words = [w for w in words if not w in stopwords.words(\"english\")]\n",
    "print(len(words))"
   ]
  },
  {
   "cell_type": "code",
   "execution_count": 15,
   "metadata": {},
   "outputs": [
    {
     "data": {
      "text/plain": [
       "u'film lot promise plot relatively interesting however actors director editors seriously let film feel bad writers could good acting wooden characters believable ever edited clearly learnt new edit techniques wanted splash film lots quick flashy edits almost every scene clearly meant symbolic end annoying wanted like film expected decent resolution breakdown equilibrium alas left feeling like wasted time film makers wasted money'"
      ]
     },
     "execution_count": 15,
     "metadata": {},
     "output_type": "execute_result"
    }
   ],
   "source": [
    "' '.join(words)"
   ]
  },
  {
   "cell_type": "markdown",
   "metadata": {},
   "source": [
    "### 6. Porter Stemming and Lemmatizing\n",
    "**Porter Stemming and Lemmatizing (both available in NLTK)** would allow us to treat \"messages\", \"message\", and \"messaging\" as the same word, which could certainly be useful.  \n",
    "**Stemming** is a little big trikey. So we only test **Lemmatizing** here."
   ]
  },
  {
   "cell_type": "code",
   "execution_count": 20,
   "metadata": {},
   "outputs": [],
   "source": [
    "from nltk.stem import WordNetLemmatizer\n",
    "wordnet_lemmatizer = WordNetLemmatizer()"
   ]
  },
  {
   "cell_type": "code",
   "execution_count": 21,
   "metadata": {},
   "outputs": [],
   "source": [
    "clean_words = [wordnet_lemmatizer.lemmatize(w) for w in words]"
   ]
  },
  {
   "cell_type": "code",
   "execution_count": 23,
   "metadata": {},
   "outputs": [
    {
     "data": {
      "text/plain": [
       "u'film lot promise plot relatively interesting however actor director editor seriously let film feel bad writer could good acting wooden character believable ever edited clearly learnt new edit technique wanted splash film lot quick flashy edits almost every scene clearly meant symbolic end annoying wanted like film expected decent resolution breakdown equilibrium ala left feeling like wasted time film maker wasted money'"
      ]
     },
     "execution_count": 23,
     "metadata": {},
     "output_type": "execute_result"
    }
   ],
   "source": [
    "' '.join(clean_words)"
   ]
  },
  {
   "cell_type": "markdown",
   "metadata": {},
   "source": [
    "#### The lemmatizer is based on POS. For better lemmatizing, we may better apply POS first.  \n",
    "ADJ, ADJ_SAT, ADV, NOUN, VERB = 'a', 's', 'r', 'n', 'v'"
   ]
  },
  {
   "cell_type": "code",
   "execution_count": 27,
   "metadata": {},
   "outputs": [
    {
     "name": "stdout",
     "output_type": "stream",
     "text": [
      "CPU times: user 148 ms, sys: 8 ms, total: 156 ms\n",
      "Wall time: 344 ms\n"
     ]
    }
   ],
   "source": [
    "%time word_pos = nltk.pos_tag(words)"
   ]
  },
  {
   "cell_type": "code",
   "execution_count": 36,
   "metadata": {},
   "outputs": [],
   "source": [
    "def pos_tag_map(tag):\n",
    "    if tag.startswith('J'):\n",
    "        return 'a'\n",
    "    elif tag.startswith('V'):\n",
    "        return 'v'\n",
    "    elif tag.startswith('N'):\n",
    "        return 'n'\n",
    "    elif tag.startswith('R'):\n",
    "        return 'r'\n",
    "    else:\n",
    "        return 'n'"
   ]
  },
  {
   "cell_type": "code",
   "execution_count": 38,
   "metadata": {},
   "outputs": [
    {
     "name": "stdout",
     "output_type": "stream",
     "text": [
      "CPU times: user 0 ns, sys: 0 ns, total: 0 ns\n",
      "Wall time: 1.38 ms\n"
     ]
    }
   ],
   "source": [
    "%time clean_words = [wordnet_lemmatizer.lemmatize(w, pos_tag_map(pos)) for (w, pos) in word_pos]"
   ]
  },
  {
   "cell_type": "markdown",
   "metadata": {},
   "source": [
    "### Well, not bad :/\n",
    "Because sometimes the POS TAG would be ambiguous. "
   ]
  },
  {
   "cell_type": "code",
   "execution_count": 39,
   "metadata": {},
   "outputs": [
    {
     "data": {
      "text/plain": [
       "u'film lot promise plot relatively interesting however actor director editor seriously let film feel bad writer could good act wooden character believable ever edit clearly learnt new edit technique want splash film lot quick flashy edits almost every scene clearly mean symbolic end annoy want like film expect decent resolution breakdown equilibrium ala leave feel like wasted time film maker waste money'"
      ]
     },
     "execution_count": 39,
     "metadata": {},
     "output_type": "execute_result"
    }
   ],
   "source": [
    "' '.join(clean_words)"
   ]
  },
  {
   "cell_type": "code",
   "execution_count": 43,
   "metadata": {},
   "outputs": [
    {
     "data": {
      "text/plain": [
       "u'film lot promise plot relatively interesting however actors director editors seriously let film feel bad writers could good acting wooden characters believable ever edited clearly learnt new edit techniques wanted splash film lots quick flashy edits almost every scene clearly meant symbolic end annoying wanted like film expected decent resolution breakdown equilibrium alas left feeling like wasted time film makers wasted money'"
      ]
     },
     "execution_count": 43,
     "metadata": {},
     "output_type": "execute_result"
    }
   ],
   "source": [
    "' '.join(words)"
   ]
  }
 ],
 "metadata": {
  "kernelspec": {
   "display_name": "Python 2",
   "language": "python",
   "name": "python2"
  },
  "language_info": {
   "codemirror_mode": {
    "name": "ipython",
    "version": 2
   },
   "file_extension": ".py",
   "mimetype": "text/x-python",
   "name": "python",
   "nbconvert_exporter": "python",
   "pygments_lexer": "ipython2",
   "version": "2.7.13"
  }
 },
 "nbformat": 4,
 "nbformat_minor": 2
}
