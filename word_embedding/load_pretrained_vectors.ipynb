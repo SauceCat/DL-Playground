{
 "cells": [
  {
   "cell_type": "markdown",
   "metadata": {},
   "source": [
    "## How to load the pretained word embedding?"
   ]
  },
  {
   "cell_type": "markdown",
   "metadata": {},
   "source": [
    "## chakin\n",
    "chakin is a downloader for pre-trained word vectors. https://github.com/chakki-works/chakin"
   ]
  },
  {
   "cell_type": "code",
   "execution_count": 1,
   "metadata": {},
   "outputs": [],
   "source": [
    "import chakin"
   ]
  },
  {
   "cell_type": "code",
   "execution_count": 2,
   "metadata": {},
   "outputs": [
    {
     "name": "stdout",
     "output_type": "stream",
     "text": [
      "                   Name  Dimension                     Corpus VocabularySize  \\\n",
      "2          fastText(en)        300                  Wikipedia           2.5M   \n",
      "11         GloVe.6B.50d         50  Wikipedia+Gigaword 5 (6B)           400K   \n",
      "12        GloVe.6B.100d        100  Wikipedia+Gigaword 5 (6B)           400K   \n",
      "13        GloVe.6B.200d        200  Wikipedia+Gigaword 5 (6B)           400K   \n",
      "14        GloVe.6B.300d        300  Wikipedia+Gigaword 5 (6B)           400K   \n",
      "15       GloVe.42B.300d        300          Common Crawl(42B)           1.9M   \n",
      "16      GloVe.840B.300d        300         Common Crawl(840B)           2.2M   \n",
      "17    GloVe.Twitter.25d         25               Twitter(27B)           1.2M   \n",
      "18    GloVe.Twitter.50d         50               Twitter(27B)           1.2M   \n",
      "19   GloVe.Twitter.100d        100               Twitter(27B)           1.2M   \n",
      "20   GloVe.Twitter.200d        200               Twitter(27B)           1.2M   \n",
      "21  word2vec.GoogleNews        300          Google News(100B)           3.0M   \n",
      "\n",
      "      Method Language    Author  \n",
      "2   fastText  English  Facebook  \n",
      "11     GloVe  English  Stanford  \n",
      "12     GloVe  English  Stanford  \n",
      "13     GloVe  English  Stanford  \n",
      "14     GloVe  English  Stanford  \n",
      "15     GloVe  English  Stanford  \n",
      "16     GloVe  English  Stanford  \n",
      "17     GloVe  English  Stanford  \n",
      "18     GloVe  English  Stanford  \n",
      "19     GloVe  English  Stanford  \n",
      "20     GloVe  English  Stanford  \n",
      "21  word2vec  English    Google  \n"
     ]
    }
   ],
   "source": [
    "chakin.search(lang='English')"
   ]
  },
  {
   "cell_type": "markdown",
   "metadata": {},
   "source": [
    "## load Gensim"
   ]
  },
  {
   "cell_type": "code",
   "execution_count": 1,
   "metadata": {},
   "outputs": [],
   "source": [
    "import gensim, logging\n",
    "import os\n",
    "logging.basicConfig(format='%(asctime)s : %(levelname)s : %(message)s', level=logging.INFO)"
   ]
  },
  {
   "cell_type": "markdown",
   "metadata": {},
   "source": [
    "## Google’s pre-trained model\n",
    "It includes word vectors for a vocabulary of **3 million words and phrases** that they trained on roughly **100 billion words** from a Google News dataset.  \n",
    "The vector length is **300 features**."
   ]
  },
  {
   "cell_type": "code",
   "execution_count": 5,
   "metadata": {},
   "outputs": [
    {
     "name": "stdout",
     "output_type": "stream",
     "text": [
      "CPU times: user 2min 14s, sys: 1.59 s, total: 2min 16s\n",
      "Wall time: 2min 16s\n"
     ]
    }
   ],
   "source": [
    "%time model = gensim.models.KeyedVectors.load_word2vec_format('GoogleNews-vectors-negative300.bin.gz', binary=True)  "
   ]
  },
  {
   "cell_type": "code",
   "execution_count": 7,
   "metadata": {},
   "outputs": [
    {
     "data": {
      "text/plain": [
       "array([ 0.0456543 , -0.14550781,  0.15625   ,  0.16601562,  0.10986328,\n",
       "        0.00750732,  0.07373047, -0.03100586,  0.15722656,  0.09960938], dtype=float32)"
      ]
     },
     "execution_count": 7,
     "metadata": {},
     "output_type": "execute_result"
    }
   ],
   "source": [
    "model[\"one\"][:10]"
   ]
  },
  {
   "cell_type": "markdown",
   "metadata": {},
   "source": [
    "### word embedding evaluation"
   ]
  },
  {
   "cell_type": "code",
   "execution_count": 12,
   "metadata": {},
   "outputs": [
    {
     "name": "stderr",
     "output_type": "stream",
     "text": [
      "2018-01-08 18:09:02,406 : INFO : capital-common-countries: 83.6% (423/506)\n",
      "2018-01-08 18:09:08,029 : INFO : capital-world: 82.7% (1144/1383)\n",
      "2018-01-08 18:09:08,592 : INFO : currency: 39.8% (51/128)\n",
      "2018-01-08 18:09:18,043 : INFO : city-in-state: 74.6% (1739/2330)\n",
      "2018-01-08 18:09:19,428 : INFO : family: 90.1% (308/342)\n",
      "2018-01-08 18:09:22,721 : INFO : gram1-adjective-to-adverb: 32.3% (262/812)\n",
      "2018-01-08 18:09:24,275 : INFO : gram2-opposite: 50.5% (192/380)\n",
      "2018-01-08 18:09:29,639 : INFO : gram3-comparative: 91.9% (1224/1332)\n",
      "2018-01-08 18:09:32,480 : INFO : gram4-superlative: 88.0% (618/702)\n",
      "2018-01-08 18:09:36,427 : INFO : gram5-present-participle: 79.8% (694/870)\n",
      "2018-01-08 18:09:42,972 : INFO : gram6-nationality-adjective: 97.1% (1193/1229)\n",
      "2018-01-08 18:09:49,074 : INFO : gram7-past-tense: 66.5% (986/1482)\n",
      "2018-01-08 18:09:53,114 : INFO : gram8-plural: 85.6% (849/992)\n",
      "2018-01-08 18:09:55,951 : INFO : gram9-plural-verbs: 68.9% (484/702)\n",
      "2018-01-08 18:09:55,955 : INFO : total: 77.1% (10167/13190)\n"
     ]
    },
    {
     "name": "stdout",
     "output_type": "stream",
     "text": [
      "CPU times: user 3min 35s, sys: 3min 46s, total: 7min 22s\n",
      "Wall time: 55.6 s\n"
     ]
    }
   ],
   "source": [
    "%time accuracy_result = model.accuracy('./data/questions-words.txt')"
   ]
  },
  {
   "cell_type": "code",
   "execution_count": 34,
   "metadata": {},
   "outputs": [
    {
     "name": "stderr",
     "output_type": "stream",
     "text": [
      "2018-01-08 20:15:02,493 : INFO : Pearson correlation coefficient against /home/saucecat/anaconda2/lib/python2.7/site-packages/gensim/test/test_data/wordsim353.tsv: 0.6239\n",
      "2018-01-08 20:15:02,495 : INFO : Spearman rank-order correlation coefficient against /home/saucecat/anaconda2/lib/python2.7/site-packages/gensim/test/test_data/wordsim353.tsv: 0.6589\n",
      "2018-01-08 20:15:02,497 : INFO : Pairs with unknown words ratio: 0.0%\n"
     ]
    },
    {
     "name": "stdout",
     "output_type": "stream",
     "text": [
      "CPU times: user 332 ms, sys: 24 ms, total: 356 ms\n",
      "Wall time: 441 ms\n"
     ]
    },
    {
     "data": {
      "text/plain": [
       "((0.62387734513046822, 1.7963247628700625e-39),\n",
       " SpearmanrResult(correlation=0.65892158880092877, pvalue=2.5346056459149263e-45),\n",
       " 0.0)"
      ]
     },
     "execution_count": 34,
     "metadata": {},
     "output_type": "execute_result"
    }
   ],
   "source": [
    "test_data_dir = '{}'.format(os.sep).join([gensim.__path__[0], 'test', 'test_data']) + os.sep\n",
    "%time model.evaluate_word_pairs(test_data_dir + 'wordsim353.tsv')"
   ]
  },
  {
   "cell_type": "markdown",
   "metadata": {},
   "source": [
    "## Stanford GloVe: glove.6B.200d"
   ]
  },
  {
   "cell_type": "markdown",
   "metadata": {},
   "source": [
    "first transform the glove word vectors into word2vec format (which is accepted by Gensim)"
   ]
  },
  {
   "cell_type": "code",
   "execution_count": null,
   "metadata": {},
   "outputs": [],
   "source": [
    "%time gensim.scripts.glove2word2vec.glove2word2vec('glove.6B.200d.txt', 'glove.6B.200d.word2vec.txt')"
   ]
  },
  {
   "cell_type": "code",
   "execution_count": 25,
   "metadata": {},
   "outputs": [
    {
     "name": "stderr",
     "output_type": "stream",
     "text": [
      "2018-01-08 20:09:32,206 : INFO : loading projection weights from glove.6B.200d.word2vec.txt\n",
      "2018-01-08 20:10:26,696 : INFO : loaded (400000, 200) matrix from glove.6B.200d.word2vec.txt\n"
     ]
    },
    {
     "name": "stdout",
     "output_type": "stream",
     "text": [
      "CPU times: user 54.3 s, sys: 208 ms, total: 54.5 s\n",
      "Wall time: 54.5 s\n"
     ]
    }
   ],
   "source": [
    "%time model_glove = gensim.models.KeyedVectors.load_word2vec_format('glove.6B.200d.word2vec.txt')  "
   ]
  },
  {
   "cell_type": "markdown",
   "metadata": {},
   "source": [
    "### word embedding evaluation"
   ]
  },
  {
   "cell_type": "code",
   "execution_count": 26,
   "metadata": {},
   "outputs": [
    {
     "name": "stderr",
     "output_type": "stream",
     "text": [
      "2018-01-08 20:10:29,354 : INFO : precomputing L2-norms of word weight vectors\n",
      "2018-01-08 20:10:31,762 : INFO : capital-common-countries: 95.1% (481/506)\n",
      "2018-01-08 20:10:42,511 : INFO : capital-world: 94.3% (2561/2715)\n",
      "2018-01-08 20:10:43,524 : INFO : currency: 20.8% (49/236)\n",
      "2018-01-08 20:10:52,817 : INFO : city-in-state: 50.2% (1106/2203)\n",
      "2018-01-08 20:10:54,198 : INFO : family: 90.6% (310/342)\n",
      "2018-01-08 20:10:58,002 : INFO : gram1-adjective-to-adverb: 24.1% (210/870)\n",
      "2018-01-08 20:10:59,719 : INFO : gram2-opposite: 27.6% (105/380)\n",
      "2018-01-08 20:11:05,178 : INFO : gram3-comparative: 86.6% (1154/1332)\n",
      "2018-01-08 20:11:08,004 : INFO : gram4-superlative: 77.3% (464/600)\n",
      "2018-01-08 20:11:12,129 : INFO : gram5-present-participle: 67.3% (626/930)\n",
      "2018-01-08 20:11:18,370 : INFO : gram6-nationality-adjective: 97.5% (1409/1445)\n",
      "2018-01-08 20:11:25,033 : INFO : gram7-past-tense: 60.2% (939/1560)\n",
      "2018-01-08 20:11:29,188 : INFO : gram8-plural: 82.9% (875/1056)\n",
      "2018-01-08 20:11:31,908 : INFO : gram9-plural-verbs: 59.7% (419/702)\n",
      "2018-01-08 20:11:31,912 : INFO : total: 72.0% (10708/14877)\n"
     ]
    }
   ],
   "source": [
    "glove_accuracy = model_glove.accuracy('data/questions-words.txt')"
   ]
  },
  {
   "cell_type": "code",
   "execution_count": 35,
   "metadata": {},
   "outputs": [
    {
     "name": "stderr",
     "output_type": "stream",
     "text": [
      "2018-01-08 20:15:35,332 : INFO : Pearson correlation coefficient against /home/saucecat/anaconda2/lib/python2.7/site-packages/gensim/test/test_data/wordsim353.tsv: 0.5778\n",
      "2018-01-08 20:15:35,333 : INFO : Spearman rank-order correlation coefficient against /home/saucecat/anaconda2/lib/python2.7/site-packages/gensim/test/test_data/wordsim353.tsv: 0.5776\n",
      "2018-01-08 20:15:35,333 : INFO : Pairs with unknown words ratio: 0.0%\n"
     ]
    },
    {
     "name": "stdout",
     "output_type": "stream",
     "text": [
      "CPU times: user 272 ms, sys: 60 ms, total: 332 ms\n",
      "Wall time: 273 ms\n"
     ]
    },
    {
     "data": {
      "text/plain": [
       "((0.57779804337074681, 7.9726958705475317e-33),\n",
       " SpearmanrResult(correlation=0.57756137200522606, pvalue=8.5715616057095865e-33),\n",
       " 0.0)"
      ]
     },
     "execution_count": 35,
     "metadata": {},
     "output_type": "execute_result"
    }
   ],
   "source": [
    "%time model_glove.evaluate_word_pairs(test_data_dir + 'wordsim353.tsv')"
   ]
  },
  {
   "cell_type": "markdown",
   "metadata": {},
   "source": [
    "## Stanford GloVe: glove.840B.300d"
   ]
  },
  {
   "cell_type": "code",
   "execution_count": 5,
   "metadata": {},
   "outputs": [
    {
     "name": "stdout",
     "output_type": "stream",
     "text": [
      "Archive:  glove.840B.300d.zip\n",
      "  inflating: glove.840B.300d.txt     \n"
     ]
    }
   ],
   "source": [
    "! unzip glove.840B.300d.zip"
   ]
  },
  {
   "cell_type": "code",
   "execution_count": 6,
   "metadata": {},
   "outputs": [
    {
     "name": "stderr",
     "output_type": "stream",
     "text": [
      "2018-01-10 14:48:13,800 : INFO : converting 2196017 vectors from glove.840B.300d.txt to glove.840B.300d.word2vec.txt\n"
     ]
    },
    {
     "name": "stdout",
     "output_type": "stream",
     "text": [
      "CPU times: user 6.34 s, sys: 10.2 s, total: 16.5 s\n",
      "Wall time: 1min 27s\n"
     ]
    },
    {
     "data": {
      "text/plain": [
       "(2196017, 300)"
      ]
     },
     "execution_count": 6,
     "metadata": {},
     "output_type": "execute_result"
    }
   ],
   "source": [
    "%time gensim.scripts.glove2word2vec.glove2word2vec('glove.840B.300d.txt', 'glove.840B.300d.word2vec.txt')"
   ]
  },
  {
   "cell_type": "code",
   "execution_count": 7,
   "metadata": {},
   "outputs": [
    {
     "name": "stderr",
     "output_type": "stream",
     "text": [
      "2018-01-10 14:49:43,230 : INFO : loading projection weights from glove.840B.300d.word2vec.txt\n",
      "2018-01-10 14:50:14,035 : WARNING : duplicate word '����������������������������������������������������������������������������������������������������������������������������������������������������������������������������������������������������������������������������������������������������������������������������������������������������������������������������������������������' in glove.840B.300d.word2vec.txt, ignoring all but first\n",
      "2018-01-10 14:57:45,496 : INFO : duplicate words detected, shrinking matrix size from 2196017 to 2196016\n",
      "2018-01-10 14:57:45,497 : INFO : loaded (2196016, 300) matrix from glove.840B.300d.word2vec.txt\n"
     ]
    },
    {
     "name": "stdout",
     "output_type": "stream",
     "text": [
      "CPU times: user 7min 38s, sys: 4.36 s, total: 7min 43s\n",
      "Wall time: 8min 2s\n"
     ]
    }
   ],
   "source": [
    "%time model_glove = gensim.models.KeyedVectors.load_word2vec_format('glove.840B.300d.word2vec.txt')  "
   ]
  },
  {
   "cell_type": "markdown",
   "metadata": {},
   "source": [
    "### word embedding evaluation"
   ]
  },
  {
   "cell_type": "code",
   "execution_count": 8,
   "metadata": {},
   "outputs": [
    {
     "name": "stderr",
     "output_type": "stream",
     "text": [
      "2018-01-10 15:00:17,860 : INFO : precomputing L2-norms of word weight vectors\n",
      "2018-01-10 15:04:29,291 : INFO : capital-common-countries: 94.5% (397/420)\n",
      "2018-01-10 15:04:32,931 : INFO : capital-world: 94.0% (502/534)\n",
      "2018-01-10 15:04:33,209 : INFO : currency: 15.0% (6/40)\n",
      "2018-01-10 15:04:46,426 : INFO : city-in-state: 70.4% (1454/2066)\n",
      "2018-01-10 15:04:48,288 : INFO : family: 97.7% (334/342)\n",
      "2018-01-10 15:04:53,969 : INFO : gram1-adjective-to-adverb: 39.3% (297/756)\n",
      "2018-01-10 15:04:56,469 : INFO : gram2-opposite: 43.0% (147/342)\n",
      "2018-01-10 15:05:05,396 : INFO : gram3-comparative: 87.3% (1100/1260)\n",
      "2018-01-10 15:05:10,024 : INFO : gram4-superlative: 91.7% (550/600)\n",
      "2018-01-10 15:05:15,466 : INFO : gram5-present-participle: 84.7% (737/870)\n",
      "2018-01-10 15:05:20,980 : INFO : gram6-nationality-adjective: 97.6% (884/906)\n",
      "2018-01-10 15:05:30,663 : INFO : gram7-past-tense: 63.3% (843/1332)\n",
      "2018-01-10 15:05:38,003 : INFO : gram8-plural: 88.9% (882/992)\n",
      "2018-01-10 15:05:42,520 : INFO : gram9-plural-verbs: 65.0% (456/702)\n",
      "2018-01-10 15:05:42,523 : INFO : total: 76.9% (8589/11162)\n"
     ]
    }
   ],
   "source": [
    "glove_accuracy = model_glove.accuracy('data/questions-words.txt')"
   ]
  },
  {
   "cell_type": "code",
   "execution_count": 10,
   "metadata": {},
   "outputs": [
    {
     "name": "stderr",
     "output_type": "stream",
     "text": [
      "2018-01-10 15:18:23,898 : INFO : Pearson correlation coefficient against /home/saucecat/anaconda2/lib/python2.7/site-packages/gensim/test/test_data/wordsim353.tsv: 0.6061\n",
      "2018-01-10 15:18:23,900 : INFO : Spearman rank-order correlation coefficient against /home/saucecat/anaconda2/lib/python2.7/site-packages/gensim/test/test_data/wordsim353.tsv: 0.5791\n",
      "2018-01-10 15:18:23,902 : INFO : Pairs with unknown words ratio: 0.0%\n"
     ]
    },
    {
     "name": "stdout",
     "output_type": "stream",
     "text": [
      "CPU times: user 292 ms, sys: 40 ms, total: 332 ms\n",
      "Wall time: 458 ms\n"
     ]
    },
    {
     "data": {
      "text/plain": [
       "((0.606060186396287, 8.9848151591948975e-37),\n",
       " SpearmanrResult(correlation=0.57907440331497184, pvalue=5.3892579338317278e-33),\n",
       " 0.0)"
      ]
     },
     "execution_count": 10,
     "metadata": {},
     "output_type": "execute_result"
    }
   ],
   "source": [
    "import os\n",
    "test_data_dir = '{}'.format(os.sep).join([gensim.__path__[0], 'test', 'test_data']) + os.sep\n",
    "%time model_glove.evaluate_word_pairs(test_data_dir + 'wordsim353.tsv')"
   ]
  }
 ],
 "metadata": {
  "kernelspec": {
   "display_name": "Python 2",
   "language": "python",
   "name": "python2"
  },
  "language_info": {
   "codemirror_mode": {
    "name": "ipython",
    "version": 2
   },
   "file_extension": ".py",
   "mimetype": "text/x-python",
   "name": "python",
   "nbconvert_exporter": "python",
   "pygments_lexer": "ipython2",
   "version": "2.7.13"
  }
 },
 "nbformat": 4,
 "nbformat_minor": 2
}
