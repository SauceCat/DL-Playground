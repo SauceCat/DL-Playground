{
 "cells": [
  {
   "cell_type": "markdown",
   "metadata": {},
   "source": [
    "# Using FastText via Gensim\n",
    "This notebook is modified based on the original one provided by Gensim.  \n",
    "You can find it here: https://github.com/RaRe-Technologies/gensim/blob/develop/docs/notebooks/FastText_Tutorial.ipynb"
   ]
  },
  {
   "cell_type": "markdown",
   "metadata": {},
   "source": [
    "This tutorial is about using [fastText](https://github.com/facebookresearch/fastText) model in Gensim. There are two ways you can use fastText in Gensim:  \n",
    "  \n",
    "**1. Gensim's native implementation of fastText**  \n",
    "**2. Gensim wrapper for fastText's original C++ code**  \n",
    "  \n",
    "Here, we'll learn to work with fastText library for training word-embedding models, saving & loading them and performing similarity operations & vector lookups analogous to Word2Vec."
   ]
  },
  {
   "cell_type": "markdown",
   "metadata": {},
   "source": [
    "## When to use FastText?\n",
    "The main principle behind fastText is that the **morphological structure** of a word carries important information about the meaning of the word, which is not taken into account by traditional word embeddings, which train a unique word embedding for every individual word.  \n",
    "This is especially significant for **morphologically rich languages (German, Turkish)** in which a single word can have a large number of morphological forms, each of which might occur rarely, thus making it hard to train good word embeddings.  \n",
    "fastText attempts to solve this by **treating each word as the aggregation of its subwords**. For the sake of simplicity and language-independence, subwords are taken to be the character ngrams of the word. **The vector for a word is simply taken to be the sum of all vectors of its component char-ngrams.**  \n",
    "According to a detailed comparison of Word2Vec and FastText in [this notebook](Word2Vec_FastText_Comparison.ipynb), fastText does significantly better on syntactic tasks as compared to the original Word2Vec, especially **when the size of the training corpus is small**. Word2Vec slightly outperforms FastText on semantic tasks though. The differences grow smaller as the size of training corpus increases.  \n",
    "Training time for fastText is significantly higher than the Gensim version of Word2Vec (`15min 42s` vs `6min 42s` on text8, 17 mil tokens, 5 epochs, and a vector size of 100).  \n",
    "fastText can be used to obtain vectors for **out-of-vocabulary (OOV) words**, by summing up vectors for its component char-ngrams, provided at least one of the char-ngrams was present in the training data."
   ]
  },
  {
   "cell_type": "markdown",
   "metadata": {},
   "source": [
    "## Training models"
   ]
  },
  {
   "cell_type": "markdown",
   "metadata": {},
   "source": [
    "For the following examples, we'll use the Lee Corpus (which you already have if you've installed gensim) for training our model.  \n",
    "For using the wrapper for fastText, you need to have fastText setup locally to be able to train models. See [installation instructions for fastText](https://github.com/facebookresearch/fastText/#requirements) if you don't have fastText installed already."
   ]
  },
  {
   "cell_type": "markdown",
   "metadata": {},
   "source": [
    "## Using Gensim's implementation of fastText"
   ]
  },
  {
   "cell_type": "code",
   "execution_count": 1,
   "metadata": {},
   "outputs": [],
   "source": [
    "import gensim\n",
    "import os\n",
    "from gensim.models.word2vec import LineSentence\n",
    "from gensim.models.fasttext import FastText as FT_gensim"
   ]
  },
  {
   "cell_type": "markdown",
   "metadata": {},
   "source": [
    "Set file names for train and test data"
   ]
  },
  {
   "cell_type": "code",
   "execution_count": 2,
   "metadata": {},
   "outputs": [],
   "source": [
    "data_dir = '{}'.format(os.sep).join([gensim.__path__[0], 'test', 'test_data']) + os.sep\n",
    "lee_train_file = data_dir + 'lee_background.cor'\n",
    "lee_data = LineSentence(lee_train_file)"
   ]
  },
  {
   "cell_type": "markdown",
   "metadata": {},
   "source": [
    "### Quick test"
   ]
  },
  {
   "cell_type": "code",
   "execution_count": 3,
   "metadata": {},
   "outputs": [],
   "source": [
    "from gensim.models import FastText\n",
    "\n",
    "sentences_1 = [[\"cat\", \"say\", \"meow\"], [\"dog\", \"say\", \"woof\"]]\n",
    "sentences_2 = [[\"dude\", \"say\", \"wazzup!\"]]\n",
    "\n",
    "model = FastText(min_count=1)\n",
    "model.build_vocab(sentences_1)\n",
    "model.train(sentences_1, total_examples=model.corpus_count, epochs=model.iter)\n",
    "model.build_vocab(sentences_2, update=True)\n",
    "model.train(sentences_2, total_examples=model.corpus_count, epochs=model.iter)"
   ]
  },
  {
   "cell_type": "markdown",
   "metadata": {},
   "source": [
    "### check the ngrams"
   ]
  },
  {
   "cell_type": "code",
   "execution_count": 13,
   "metadata": {},
   "outputs": [],
   "source": [
    "import numpy as np"
   ]
  },
  {
   "cell_type": "code",
   "execution_count": 14,
   "metadata": {},
   "outputs": [
    {
     "data": {
      "text/plain": [
       "array(['og>', '<du', 'dud', '<wa', 'say', 'dude>', '<say>', 'azzup',\n",
       "       '<dud', '<cat', '<meow', 'eow>', '<say', 'zup!', 'de>', '<ca',\n",
       "       '<do', '<wazzu', 'dude', '<me', 'p!>', 'up!', 'woof', 'woo', 'ay>',\n",
       "       '<woof', 'waz', 'at>', '<wazz', 'of>', 'zzu', 'up!>', 'zup!>',\n",
       "       'wazzup', 'oof', 'azzup!', 'ude>', '<dude', 'say>', 'meo', 'zup',\n",
       "       'zzup', 'ow>', '<dude>', '<dog>', 'ude', 'zzup!>', '<woo', 'wazz',\n",
       "       'zzup!', '<meo', 'azzu', 'woof>', '<wo', 'meow', '<woof>', 'dog',\n",
       "       'cat', 'dog>', 'azz', '<cat>', 'eow', '<dog', '<sa', 'wazzu',\n",
       "       '<waz', 'oof>', '<meow>', 'cat>', 'meow>'],\n",
       "      dtype='|S6')"
      ]
     },
     "execution_count": 14,
     "metadata": {},
     "output_type": "execute_result"
    }
   ],
   "source": [
    "np.array(list(model.wv.ngrams))"
   ]
  },
  {
   "cell_type": "markdown",
   "metadata": {},
   "source": [
    "### train on lee dataset"
   ]
  },
  {
   "cell_type": "code",
   "execution_count": 17,
   "metadata": {},
   "outputs": [
    {
     "name": "stdout",
     "output_type": "stream",
     "text": [
      "FastText(vocab=1762, size=100, alpha=0.025)\n"
     ]
    }
   ],
   "source": [
    "model_gensim = FastText(size=100)\n",
    "\n",
    "# build the vocabulary\n",
    "model_gensim.build_vocab(lee_data)\n",
    "\n",
    "# train the model\n",
    "model_gensim.train(lee_data, total_examples=model_gensim.corpus_count, epochs=model_gensim.iter)\n",
    "\n",
    "print(model_gensim)"
   ]
  },
  {
   "cell_type": "code",
   "execution_count": 20,
   "metadata": {},
   "outputs": [
    {
     "data": {
      "text/plain": [
       "array([u'<stru', u'<cal', u'<cam', u'<can', u'hree>', u'<Shan', u'<cab',\n",
       "       u'Pollo', u'foun', u'<brou'],\n",
       "      dtype='<U6')"
      ]
     },
     "execution_count": 20,
     "metadata": {},
     "output_type": "execute_result"
    }
   ],
   "source": [
    "np.array(list(model_gensim.wv.ngrams))[:10]"
   ]
  },
  {
   "cell_type": "markdown",
   "metadata": {},
   "source": [
    "## Training hyperparameters"
   ]
  },
  {
   "cell_type": "markdown",
   "metadata": {},
   "source": [
    "Hyperparameters for training the model follow **the same pattern as Word2Vec**. FastText supports the folllowing parameters from the original word2vec - \n",
    "     - model: Training architecture. Allowed values: `cbow`, `skipgram` (Default `cbow`)\n",
    "     - size: Size of embeddings to be learnt (Default 100)\n",
    "     - alpha: Initial learning rate (Default 0.025)\n",
    "     - window: Context window size (Default 5)\n",
    "     - min_count: Ignore words with number of occurrences below this (Default 5)\n",
    "     - loss: Training objective. Allowed values: `ns`, `hs`, `softmax` (Default `ns`)\n",
    "     - sample: Threshold for downsampling higher-frequency words (Default 0.001)\n",
    "     - negative: Number of negative words to sample, for `ns` (Default 5)\n",
    "     - iter: Number of epochs (Default 5)\n",
    "     - sorted_vocab: Sort vocab by descending frequency (Default 1)\n",
    "     - threads: Number of threads to use (Default 12)\n",
    "     \n",
    "In addition, FastText has **three additional parameters** - \n",
    "    - min_n: min length of char ngrams (Default 3)\n",
    "    - max_n: max length of char ngrams (Default 6)\n",
    "    - bucket: number of buckets used for hashing ngrams (Default 2000000)\n",
    "Parameters `min_n` and `max_n` control the lengths of character ngrams that each word is broken down into while training and looking up embeddings. If `max_n` is set to 0, or to be lesser than `min_n`, no character ngrams are used, and the model effectively reduces to Word2Vec.\n",
    "  \n",
    "To bound the memory requirements of the model being trained, a hashing function is used that maps ngrams to integers in 1 to K. For hashing these character sequences, the [Fowler-Noll-Vo hashing function](http://www.isthe.com/chongo/tech/comp/fnv) (FNV-1a variant) is employed."
   ]
  },
  {
   "cell_type": "markdown",
   "metadata": {},
   "source": [
    "**Note:** As in the case of Word2Vec, you can continue to train your model while using Gensim's native implementation of fastText. However, continuation of training with fastText models while using the wrapper is not supported."
   ]
  },
  {
   "cell_type": "markdown",
   "metadata": {},
   "source": [
    "## Saving/loading models"
   ]
  },
  {
   "cell_type": "markdown",
   "metadata": {},
   "source": [
    "Models can be saved and loaded via the `load` and `save` methods."
   ]
  },
  {
   "cell_type": "code",
   "execution_count": 21,
   "metadata": {},
   "outputs": [
    {
     "name": "stdout",
     "output_type": "stream",
     "text": [
      "FastText(vocab=1762, size=100, alpha=0.025)\n"
     ]
    }
   ],
   "source": [
    "# saving a model trained via Gensim's fastText implementation\n",
    "model_gensim.save('saved_model_gensim')\n",
    "loaded_model = FT_gensim.load('saved_model_gensim')\n",
    "print(loaded_model)"
   ]
  },
  {
   "cell_type": "markdown",
   "metadata": {},
   "source": [
    "The `save_word2vec_method` causes the vectors for ngrams to be lost. As a result, a model loaded in this way will behave as a regular word2vec model.  \n"
   ]
  },
  {
   "cell_type": "markdown",
   "metadata": {},
   "source": [
    "## Word vector lookup\n",
    "**Note:** Operations like word vector lookups and similarity queries can be performed in exactly the same manner for both the implementations of fastText so they have been demonstrated using only the fastText wrapper here.\n",
    "**FastText models support vector lookups for out-of-vocabulary words by summing up character ngrams belonging to the word.**"
   ]
  },
  {
   "cell_type": "code",
   "execution_count": 22,
   "metadata": {},
   "outputs": [
    {
     "name": "stdout",
     "output_type": "stream",
     "text": [
      "True\n",
      "False\n",
      "[-0.57019579 -0.09188829  0.20156042 -0.3072716  -0.39754426 -0.0983983\n",
      " -0.08722843 -0.41355431 -0.36677885 -0.24853006 -0.52013594 -0.75637078\n",
      " -0.0158626   0.23842414  0.21981972  0.03080155 -0.40407965 -0.09736002\n",
      "  0.27523348 -0.30056232 -0.18164943 -0.41765156 -0.0892433  -0.24988179\n",
      " -0.39415315  0.20866108 -0.09102312  0.07848851 -0.32144812  0.73408467\n",
      " -0.12648621 -0.53506029 -0.21370618 -0.0779781   0.53826493 -0.43128857\n",
      " -0.32431749 -0.05279015 -0.8310082   0.21771659  0.22414613  0.58643883\n",
      " -0.57156646 -0.01516446 -0.03859856 -0.20099074 -0.33015272  0.02311516\n",
      " -0.05932569 -0.13622418  0.00897878  0.36167803  0.0329816   0.37954178\n",
      "  0.71049422 -0.13055792 -0.76480305  0.20057715  0.05422566 -0.05715587\n",
      "  0.82215869 -0.13244535 -0.98220849 -0.22568038  0.16175243  0.01689859\n",
      " -0.53634089  0.14001484 -0.16060339 -0.52491415 -0.14224397 -0.03877361\n",
      " -0.37828463  0.15975705 -0.4798829   0.41982552 -0.3067295   0.61016631\n",
      "  0.29826355  0.38651058 -0.39210784 -0.11572785 -0.12178128 -0.17849146\n",
      "  0.04557959  0.05502005  0.13467817  0.1434869   0.18480548  0.0637041\n",
      " -0.22600006 -0.59393179 -0.05280133 -0.11016746 -0.42807001 -0.19341239\n",
      " -0.08978651 -0.21997719 -0.25699943  0.14847089]\n",
      "[-0.52958381 -0.08518562  0.18767899 -0.28413248 -0.36766171 -0.09045234\n",
      " -0.08076381 -0.38440216 -0.34057513 -0.2279935  -0.48015359 -0.70055431\n",
      " -0.01468549  0.22228739  0.20274411  0.02977301 -0.37434432 -0.08973879\n",
      "  0.25494841 -0.27862611 -0.16845539 -0.38765702 -0.08300097 -0.23016463\n",
      " -0.36662474  0.19313027 -0.08448905  0.07287997 -0.29572183  0.6781466\n",
      " -0.11948034 -0.49694028 -0.1997215  -0.0740284   0.50012505 -0.40113994\n",
      " -0.30271193 -0.0472836  -0.77272958  0.200491    0.21081086  0.54440224\n",
      " -0.53000373 -0.01406625 -0.03476967 -0.18618564 -0.30654418  0.02100405\n",
      " -0.05414875 -0.12430466  0.00861501  0.33528003  0.03015604  0.35228413\n",
      "  0.65775347 -0.12286722 -0.71030152  0.18669061  0.04920588 -0.05148682\n",
      "  0.76274133 -0.1241097  -0.90968615 -0.20876604  0.15043475  0.01524885\n",
      " -0.49705333  0.12880723 -0.14809667 -0.48642993 -0.13337423 -0.03605855\n",
      " -0.35060763  0.1467233  -0.44437447  0.38934788 -0.28442162  0.56460631\n",
      "  0.27625757  0.35722229 -0.3628622  -0.10487685 -0.11103474 -0.16399141\n",
      "  0.04186725  0.05066304  0.12674797  0.13378902  0.16999769  0.0586592\n",
      " -0.20860285 -0.55226111 -0.04903651 -0.10234116 -0.39720082 -0.17837575\n",
      " -0.08274411 -0.20448844 -0.23974311  0.13694455]\n"
     ]
    }
   ],
   "source": [
    "print('night' in model_gensim.wv.vocab)\n",
    "print('nights' in model_gensim.wv.vocab)\n",
    "print(model_gensim['night'])\n",
    "print(model_gensim['nights'])"
   ]
  },
  {
   "cell_type": "markdown",
   "metadata": {},
   "source": [
    "#### The word vector lookup operation only works if at least one of the component character ngrams is present in the training corpus. For example -"
   ]
  },
  {
   "cell_type": "code",
   "execution_count": 23,
   "metadata": {},
   "outputs": [
    {
     "ename": "KeyError",
     "evalue": "'all ngrams for word axe absent from model'",
     "output_type": "error",
     "traceback": [
      "\u001b[0;31m---------------------------------------------------------------------------\u001b[0m",
      "\u001b[0;31mKeyError\u001b[0m                                  Traceback (most recent call last)",
      "\u001b[0;32m<ipython-input-23-da17180c4b98>\u001b[0m in \u001b[0;36m<module>\u001b[0;34m()\u001b[0m\n\u001b[1;32m      1\u001b[0m \u001b[0;31m# Raises a KeyError since none of the character ngrams of the word `axe` are present in the training data\u001b[0m\u001b[0;34m\u001b[0m\u001b[0;34m\u001b[0m\u001b[0m\n\u001b[0;32m----> 2\u001b[0;31m \u001b[0mmodel_gensim\u001b[0m\u001b[0;34m[\u001b[0m\u001b[0;34m'axe'\u001b[0m\u001b[0;34m]\u001b[0m\u001b[0;34m\u001b[0m\u001b[0m\n\u001b[0m",
      "\u001b[0;32m/home/saucecat/anaconda2/lib/python2.7/site-packages/gensim/models/fasttext.pyc\u001b[0m in \u001b[0;36m__getitem__\u001b[0;34m(self, word)\u001b[0m\n\u001b[1;32m    561\u001b[0m \u001b[0;34m\u001b[0m\u001b[0m\n\u001b[1;32m    562\u001b[0m         \"\"\"\n\u001b[0;32m--> 563\u001b[0;31m         \u001b[0;32mreturn\u001b[0m \u001b[0mself\u001b[0m\u001b[0;34m.\u001b[0m\u001b[0mword_vec\u001b[0m\u001b[0;34m(\u001b[0m\u001b[0mword\u001b[0m\u001b[0;34m)\u001b[0m\u001b[0;34m\u001b[0m\u001b[0m\n\u001b[0m\u001b[1;32m    564\u001b[0m \u001b[0;34m\u001b[0m\u001b[0m\n\u001b[1;32m    565\u001b[0m     \u001b[0;32mdef\u001b[0m \u001b[0mget_vocab_word_vecs\u001b[0m\u001b[0;34m(\u001b[0m\u001b[0mself\u001b[0m\u001b[0;34m)\u001b[0m\u001b[0;34m:\u001b[0m\u001b[0;34m\u001b[0m\u001b[0m\n",
      "\u001b[0;32m/home/saucecat/anaconda2/lib/python2.7/site-packages/gensim/models/fasttext.pyc\u001b[0m in \u001b[0;36mword_vec\u001b[0;34m(self, word, use_norm)\u001b[0m\n\u001b[1;32m    603\u001b[0m \u001b[0;34m\u001b[0m\u001b[0m\n\u001b[1;32m    604\u001b[0m         \"\"\"\n\u001b[0;32m--> 605\u001b[0;31m         \u001b[0;32mreturn\u001b[0m \u001b[0mFastTextKeyedVectors\u001b[0m\u001b[0;34m.\u001b[0m\u001b[0mword_vec\u001b[0m\u001b[0;34m(\u001b[0m\u001b[0mself\u001b[0m\u001b[0;34m.\u001b[0m\u001b[0mwv\u001b[0m\u001b[0;34m,\u001b[0m \u001b[0mword\u001b[0m\u001b[0;34m,\u001b[0m \u001b[0muse_norm\u001b[0m\u001b[0;34m=\u001b[0m\u001b[0muse_norm\u001b[0m\u001b[0;34m)\u001b[0m\u001b[0;34m\u001b[0m\u001b[0m\n\u001b[0m\u001b[1;32m    606\u001b[0m \u001b[0;34m\u001b[0m\u001b[0m\n\u001b[1;32m    607\u001b[0m     \u001b[0;34m@\u001b[0m\u001b[0mclassmethod\u001b[0m\u001b[0;34m\u001b[0m\u001b[0m\n",
      "\u001b[0;32m/home/saucecat/anaconda2/lib/python2.7/site-packages/gensim/models/wrappers/fasttext.pyc\u001b[0m in \u001b[0;36mword_vec\u001b[0;34m(self, word, use_norm)\u001b[0m\n\u001b[1;32m    112\u001b[0m                 \u001b[0;32mreturn\u001b[0m \u001b[0mword_vec\u001b[0m \u001b[0;34m/\u001b[0m \u001b[0mlen\u001b[0m\u001b[0;34m(\u001b[0m\u001b[0mngrams\u001b[0m\u001b[0;34m)\u001b[0m\u001b[0;34m\u001b[0m\u001b[0m\n\u001b[1;32m    113\u001b[0m             \u001b[0;32melse\u001b[0m\u001b[0;34m:\u001b[0m  \u001b[0;31m# No ngrams of the word are present in self.ngrams\u001b[0m\u001b[0;34m\u001b[0m\u001b[0m\n\u001b[0;32m--> 114\u001b[0;31m                 \u001b[0;32mraise\u001b[0m \u001b[0mKeyError\u001b[0m\u001b[0;34m(\u001b[0m\u001b[0;34m'all ngrams for word %s absent from model'\u001b[0m \u001b[0;34m%\u001b[0m \u001b[0mword\u001b[0m\u001b[0;34m)\u001b[0m\u001b[0;34m\u001b[0m\u001b[0m\n\u001b[0m\u001b[1;32m    115\u001b[0m \u001b[0;34m\u001b[0m\u001b[0m\n\u001b[1;32m    116\u001b[0m     \u001b[0;32mdef\u001b[0m \u001b[0minit_sims\u001b[0m\u001b[0;34m(\u001b[0m\u001b[0mself\u001b[0m\u001b[0;34m,\u001b[0m \u001b[0mreplace\u001b[0m\u001b[0;34m=\u001b[0m\u001b[0mFalse\u001b[0m\u001b[0;34m)\u001b[0m\u001b[0;34m:\u001b[0m\u001b[0;34m\u001b[0m\u001b[0m\n",
      "\u001b[0;31mKeyError\u001b[0m: 'all ngrams for word axe absent from model'"
     ]
    }
   ],
   "source": [
    "# Raises a KeyError since none of the character ngrams of the word `axe` are present in the training data\n",
    "model_gensim['axe']"
   ]
  },
  {
   "cell_type": "markdown",
   "metadata": {},
   "source": [
    "The `in` operation works slightly differently from the original word2vec.  \n",
    "It tests whether a vector for the given word exists or not, not whether the word is present in the word vocabulary.  \n",
    "To test whether a word is present in the training word vocabulary."
   ]
  },
  {
   "cell_type": "code",
   "execution_count": 25,
   "metadata": {},
   "outputs": [
    {
     "name": "stdout",
     "output_type": "stream",
     "text": [
      "False\n",
      "True\n"
     ]
    },
    {
     "name": "stderr",
     "output_type": "stream",
     "text": [
      "/home/saucecat/anaconda2/lib/python2.7/site-packages/ipykernel_launcher.py:4: DeprecationWarning: Call to deprecated `__contains__` (Method will be removed in 4.0.0, use self.wv.__contains__() instead).\n",
      "  after removing the cwd from sys.path.\n"
     ]
    }
   ],
   "source": [
    "# Tests if word present in vocab\n",
    "print(\"word\" in model_gensim.wv.vocab)\n",
    "# Tests if vector present for word\n",
    "print(\"word\" in model_gensim)"
   ]
  },
  {
   "cell_type": "markdown",
   "metadata": {},
   "source": [
    "## Similarity operations"
   ]
  },
  {
   "cell_type": "markdown",
   "metadata": {},
   "source": [
    "Similarity operations work the same way as word2vec.  \n",
    "**Out-of-vocabulary words can also be used, provided they have at least one character ngram present in the training data.**"
   ]
  },
  {
   "cell_type": "code",
   "execution_count": 27,
   "metadata": {},
   "outputs": [
    {
     "name": "stdout",
     "output_type": "stream",
     "text": [
      "False\n",
      "True\n"
     ]
    },
    {
     "name": "stderr",
     "output_type": "stream",
     "text": [
      "/home/saucecat/anaconda2/lib/python2.7/site-packages/ipykernel_launcher.py:3: DeprecationWarning: Call to deprecated `similarity` (Method will be removed in 4.0.0, use self.wv.similarity() instead).\n",
      "  This is separate from the ipykernel package so we can avoid doing imports until\n"
     ]
    },
    {
     "data": {
      "text/plain": [
       "0.99999390394357246"
      ]
     },
     "execution_count": 27,
     "metadata": {},
     "output_type": "execute_result"
    }
   ],
   "source": [
    "print(\"nights\" in model_gensim.wv.vocab)\n",
    "print(\"night\" in model_gensim.wv.vocab)\n",
    "model_gensim.wv.similarity(\"night\", \"nights\")"
   ]
  },
  {
   "cell_type": "markdown",
   "metadata": {},
   "source": [
    "Syntactically similar words generally have high similarity in fastText models, since a large number of the component char-ngrams will be the same.  \n",
    "As a result, fastText generally does better at syntactic tasks than Word2Vec. A detailed comparison is provided [here](Word2Vec_FastText_Comparison.ipynb)."
   ]
  },
  {
   "cell_type": "markdown",
   "metadata": {},
   "source": [
    "### Other similarity operations"
   ]
  },
  {
   "cell_type": "code",
   "execution_count": 32,
   "metadata": {},
   "outputs": [
    {
     "data": {
      "text/plain": [
       "[(u'night', 0.9999696016311646),\n",
       " (u'night.', 0.9999635219573975),\n",
       " (u'rights', 0.999962568283081),\n",
       " (u'office', 0.9999616146087646),\n",
       " (u'might', 0.9999598264694214),\n",
       " (u'flights', 0.9999597668647766),\n",
       " (u'territories', 0.9999595880508423),\n",
       " (u'warning', 0.9999595284461975),\n",
       " (u'contested', 0.9999594688415527),\n",
       " (u'offices', 0.9999593496322632)]"
      ]
     },
     "execution_count": 32,
     "metadata": {},
     "output_type": "execute_result"
    }
   ],
   "source": [
    "# The example training corpus is a toy corpus, results are not expected to be good, for proof-of-concept only\n",
    "model_gensim.wv.most_similar(\"nights\")"
   ]
  },
  {
   "cell_type": "code",
   "execution_count": 33,
   "metadata": {},
   "outputs": [
    {
     "data": {
      "text/plain": [
       "0.99996431181513856"
      ]
     },
     "execution_count": 33,
     "metadata": {},
     "output_type": "execute_result"
    }
   ],
   "source": [
    "model_gensim.wv.n_similarity(['sushi', 'shop'], ['japanese', 'restaurant'])"
   ]
  },
  {
   "cell_type": "code",
   "execution_count": 34,
   "metadata": {},
   "outputs": [
    {
     "data": {
      "text/plain": [
       "'cereal'"
      ]
     },
     "execution_count": 34,
     "metadata": {},
     "output_type": "execute_result"
    }
   ],
   "source": [
    "model_gensim.wv.doesnt_match(\"breakfast cereal dinner lunch\".split())"
   ]
  },
  {
   "cell_type": "code",
   "execution_count": 36,
   "metadata": {},
   "outputs": [
    {
     "data": {
      "text/plain": [
       "[(u'Zealand', 0.9995945692062378),\n",
       " (u'jail', 0.9995880722999573),\n",
       " (u'bomber', 0.9995837807655334),\n",
       " (u'Yasser', 0.9995830655097961),\n",
       " (u'bombers', 0.9995797872543335),\n",
       " (u'land', 0.9995788335800171),\n",
       " (u'shuttle', 0.9995787143707275),\n",
       " (u'New', 0.9995783567428589),\n",
       " (u'water', 0.9995779395103455),\n",
       " (u'major', 0.999577522277832)]"
      ]
     },
     "execution_count": 36,
     "metadata": {},
     "output_type": "execute_result"
    }
   ],
   "source": [
    "model_gensim.wv.most_similar(positive=['baghdad', 'england'], negative=['london'])"
   ]
  },
  {
   "cell_type": "markdown",
   "metadata": {},
   "source": [
    "### word embedding evaluation"
   ]
  },
  {
   "cell_type": "code",
   "execution_count": 38,
   "metadata": {},
   "outputs": [],
   "source": [
    "import logging\n",
    "logging.basicConfig(format='%(asctime)s : %(levelname)s : %(message)s', level=logging.INFO)"
   ]
  },
  {
   "cell_type": "code",
   "execution_count": 39,
   "metadata": {},
   "outputs": [
    {
     "name": "stderr",
     "output_type": "stream",
     "text": [
      "2018-01-09 17:20:08,273 : INFO : family: 0.0% (0/2)\n",
      "2018-01-09 17:20:08,314 : INFO : gram3-comparative: 16.7% (2/12)\n",
      "2018-01-09 17:20:08,344 : INFO : gram4-superlative: 25.0% (3/12)\n",
      "2018-01-09 17:20:08,379 : INFO : gram5-present-participle: 30.0% (6/20)\n",
      "2018-01-09 17:20:08,408 : INFO : gram6-nationality-adjective: 40.0% (8/20)\n",
      "2018-01-09 17:20:08,440 : INFO : gram7-past-tense: 10.0% (2/20)\n",
      "2018-01-09 17:20:08,465 : INFO : gram8-plural: 33.3% (4/12)\n",
      "2018-01-09 17:20:08,476 : INFO : total: 25.5% (25/98)\n"
     ]
    }
   ],
   "source": [
    "question_file_path = data_dir + 'questions-words.txt'\n",
    "accuracy_results = model_gensim.accuracy(questions=question_file_path)"
   ]
  }
 ],
 "metadata": {
  "anaconda-cloud": {},
  "kernelspec": {
   "display_name": "Python 2",
   "language": "python",
   "name": "python2"
  },
  "language_info": {
   "codemirror_mode": {
    "name": "ipython",
    "version": 2
   },
   "file_extension": ".py",
   "mimetype": "text/x-python",
   "name": "python",
   "nbconvert_exporter": "python",
   "pygments_lexer": "ipython2",
   "version": "2.7.13"
  }
 },
 "nbformat": 4,
 "nbformat_minor": 2
}
