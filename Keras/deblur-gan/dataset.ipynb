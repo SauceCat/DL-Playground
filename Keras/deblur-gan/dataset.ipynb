{
 "cells": [
  {
   "cell_type": "markdown",
   "metadata": {},
   "source": [
    "# Dataset"
   ]
  },
  {
   "cell_type": "markdown",
   "metadata": {},
   "source": [
    "**GOPRO dataset**   \n",
    "It contains artificially blurred images from multiple street views.   \n",
    "We first distribute the images into two folders A (blurred) and B (sharp)."
   ]
  },
  {
   "cell_type": "markdown",
   "metadata": {},
   "source": [
    "#### folder structure for the original dataset\n",
    "\n",
    "```bash\n",
    "GOPRO_Large/\n",
    "├── test\n",
    "│   ├── GOPR0384_11_00\n",
    "│   │   ├── blur\n",
    "│   │   ├── blur_gamma\n",
    "│   │   └── sharp\n",
    "│   ├── ...\n",
    "│   └── GOPR0881_11_01\n",
    "│       ├── blur\n",
    "│       ├── blur_gamma\n",
    "│       └── sharp\n",
    "└── train\n",
    "    ├── GOPR0372_07_00\n",
    "    │   ├── blur\n",
    "    │   ├── blur_gamma\n",
    "    │   └── sharp\n",
    "    ├── ...\n",
    "    └── GOPR0884_11_00\n",
    "        ├── blur\n",
    "        ├── blur_gamma\n",
    "        └── sharp\n",
    "```"
   ]
  },
  {
   "cell_type": "markdown",
   "metadata": {},
   "source": [
    "### organize dataset"
   ]
  },
  {
   "cell_type": "code",
   "execution_count": 1,
   "metadata": {
    "collapsed": true
   },
   "outputs": [],
   "source": [
    "from deblur.dataset import organize_gopro_dataset"
   ]
  },
  {
   "cell_type": "code",
   "execution_count": 2,
   "metadata": {},
   "outputs": [
    {
     "data": {
      "application/vnd.jupyter.widget-view+json": {
       "model_id": "e0fc0249535f4d4291e6bf94d6ec1b56"
      }
     },
     "metadata": {},
     "output_type": "display_data"
    },
    {
     "data": {
      "application/vnd.jupyter.widget-view+json": {
       "model_id": "7e2cf65440494d2ea9950bbee2204512"
      }
     },
     "metadata": {},
     "output_type": "display_data"
    },
    {
     "data": {
      "application/vnd.jupyter.widget-view+json": {
       "model_id": "4d0e91c62cc74736b78baccdc1b5a979"
      }
     },
     "metadata": {},
     "output_type": "display_data"
    },
    {
     "name": "stdout",
     "output_type": "stream",
     "text": [
      "\n",
      "CPU times: user 2.93 s, sys: 13 s, total: 15.9 s\n",
      "Wall time: 1min 29s\n"
     ]
    }
   ],
   "source": [
    "%%time\n",
    "organize_gopro_dataset.reorganize_gopro_files(dir_in='deblur/dataset/GOPRO_Large', \n",
    "                                              dir_out='deblur/dataset/images', is_notebook=True)"
   ]
  },
  {
   "cell_type": "markdown",
   "metadata": {},
   "source": [
    "#### folder structure after organize\n",
    "\n",
    "```bash\n",
    "images\n",
    "├── test\n",
    "│   ├── A\n",
    "│   └── B\n",
    "└── train\n",
    "    ├── A\n",
    "    └── B\n",
    "```"
   ]
  }
 ],
 "metadata": {
  "kernelspec": {
   "display_name": "Python 2",
   "language": "python",
   "name": "python2"
  },
  "language_info": {
   "codemirror_mode": {
    "name": "ipython",
    "version": 2
   },
   "file_extension": ".py",
   "mimetype": "text/x-python",
   "name": "python",
   "nbconvert_exporter": "python",
   "pygments_lexer": "ipython2",
   "version": "2.7.14"
  }
 },
 "nbformat": 4,
 "nbformat_minor": 2
}
